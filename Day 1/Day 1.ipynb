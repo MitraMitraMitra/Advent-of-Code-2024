{
 "cells": [
  {
   "cell_type": "code",
   "execution_count": 42,
   "metadata": {},
   "outputs": [],
   "source": [
    "import os"
   ]
  },
  {
   "cell_type": "code",
   "execution_count": 43,
   "metadata": {},
   "outputs": [],
   "source": [
    "file = open(\"input1.txt\")\n",
    "\n",
    "# UNCOMMENT THE FOLLOWING LINE TO USE EXAMPLE INPUT.\n",
    "# file = [\"3   4\", \"4   3\", \"2   5\", \"1   3\", \"3   9\", \"3   3\"]\n",
    "\n",
    "A = []\n",
    "B = []\n",
    "for i in file:\n",
    "    A.append(int(i.split(\" \")[0]))\n",
    "    B.append(int(i.split(\" \")[3]))"
   ]
  },
  {
   "cell_type": "markdown",
   "metadata": {},
   "source": [
    "# Part One #"
   ]
  },
  {
   "cell_type": "code",
   "execution_count": 44,
   "metadata": {},
   "outputs": [
    {
     "data": {
      "text/plain": [
       "1319616"
      ]
     },
     "execution_count": 44,
     "metadata": {},
     "output_type": "execute_result"
    }
   ],
   "source": [
    "A_sorted = sorted(A)\n",
    "B_sorted = sorted(B)\n",
    "\n",
    "s = 0\n",
    "for i in range(0, len(A_sorted)):\n",
    "    number_A = A_sorted[i]\n",
    "    number_B = B_sorted[i]\n",
    "    s = s + abs(number_A - number_B)\n",
    "s"
   ]
  },
  {
   "cell_type": "markdown",
   "metadata": {},
   "source": [
    "# Part Two #"
   ]
  },
  {
   "cell_type": "code",
   "execution_count": 45,
   "metadata": {},
   "outputs": [
    {
     "data": {
      "text/plain": [
       "27267728"
      ]
     },
     "execution_count": 45,
     "metadata": {},
     "output_type": "execute_result"
    }
   ],
   "source": [
    "\n",
    "s = 0\n",
    "for i in range(0, len(A)):\n",
    "    number_A = A[i]\n",
    "    factor = B.count(number_A)\n",
    "    s = s + factor * number_A\n",
    "s"
   ]
  }
 ],
 "metadata": {
  "kernelspec": {
   "display_name": "Python 3",
   "language": "python",
   "name": "python3"
  },
  "language_info": {
   "codemirror_mode": {
    "name": "ipython",
    "version": 3
   },
   "file_extension": ".py",
   "mimetype": "text/x-python",
   "name": "python",
   "nbconvert_exporter": "python",
   "pygments_lexer": "ipython3",
   "version": "3.8.5"
  }
 },
 "nbformat": 4,
 "nbformat_minor": 5
}
