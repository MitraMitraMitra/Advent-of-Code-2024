{
 "cells": [
  {
   "cell_type": "code",
   "execution_count": 4,
   "metadata": {},
   "outputs": [],
   "source": [
    "import os"
   ]
  },
  {
   "cell_type": "code",
   "execution_count": 5,
   "metadata": {},
   "outputs": [],
   "source": [
    "def check_report(report):\n",
    "    if report != sorted(report) and report != sorted(report)[::-1]:\n",
    "        return False\n",
    "    for i in range(0, len(report) - 1):\n",
    "        if abs(report[i] - report[i + 1]) not in [1, 2, 3]:\n",
    "            return False\n",
    "    return True\n",
    "\n",
    "def generate_versions_of_the_report(report):\n",
    "    versions = []\n",
    "    for index in range(1, len(report) + 1):\n",
    "        versions.append(report[0:index - 1] + report[index:])\n",
    "    return versions\n",
    "    \n",
    "def try_versions(reports):\n",
    "    for report in reports:\n",
    "        if check_report(report):\n",
    "            return True\n",
    "    return False"
   ]
  },
  {
   "cell_type": "markdown",
   "metadata": {},
   "source": [
    "# Part One #"
   ]
  },
  {
   "cell_type": "code",
   "execution_count": 10,
   "metadata": {},
   "outputs": [
    {
     "data": {
      "text/plain": [
       "282"
      ]
     },
     "execution_count": 10,
     "metadata": {},
     "output_type": "execute_result"
    }
   ],
   "source": [
    "file = open(\"input1.txt\")\n",
    "\n",
    "# UNCOMMENT THE FOLLOWING LINE TO USE EXAMPLE INPUT.\n",
    "# file = [\"7 6 4 2 1\", \"1 2 7 8 9\", \"9 7 6 2 1\", \"1 3 2 4 5\", \"8 6 4 4 1\", \"1 3 6 7 9\"]\n",
    "\n",
    "safe_reports = 0\n",
    "for i in file:\n",
    "    report = [int(i) for i in i.replace(\"\\n\", \"\").split(\" \")]\n",
    "    if check_report(report):\n",
    "        safe_reports = safe_reports + 1\n",
    "safe_reports"
   ]
  },
  {
   "cell_type": "markdown",
   "metadata": {},
   "source": [
    "# Part Two #"
   ]
  },
  {
   "cell_type": "code",
   "execution_count": 11,
   "metadata": {},
   "outputs": [
    {
     "data": {
      "text/plain": [
       "349"
      ]
     },
     "execution_count": 11,
     "metadata": {},
     "output_type": "execute_result"
    }
   ],
   "source": [
    "file = open(\"input1.txt\")\n",
    "\n",
    "# UNCOMMENT THE FOLLOWING LINE TO USE EXAMPLE INPUT.\n",
    "# file = [\"7 6 4 2 1\", \"1 2 7 8 9\", \"9 7 6 2 1\", \"1 3 2 4 5\", \"8 6 4 4 1\", \"1 3 6 7 9\"]\n",
    "\n",
    "safe_reports = 0\n",
    "for i in file:\n",
    "    report = [int(i) for i in i.replace(\"\\n\", \"\").split(\" \")]\n",
    "    if check_report(report):\n",
    "        safe_reports = safe_reports + 1\n",
    "    else:\n",
    "        reports = generate_versions_of_the_report(report)\n",
    "        if try_versions(reports):\n",
    "            safe_reports = safe_reports + 1\n",
    "safe_reports"
   ]
  }
 ],
 "metadata": {
  "kernelspec": {
   "display_name": "Python 3",
   "language": "python",
   "name": "python3"
  },
  "language_info": {
   "codemirror_mode": {
    "name": "ipython",
    "version": 3
   },
   "file_extension": ".py",
   "mimetype": "text/x-python",
   "name": "python",
   "nbconvert_exporter": "python",
   "pygments_lexer": "ipython3",
   "version": "3.8.5"
  }
 },
 "nbformat": 4,
 "nbformat_minor": 4
}
