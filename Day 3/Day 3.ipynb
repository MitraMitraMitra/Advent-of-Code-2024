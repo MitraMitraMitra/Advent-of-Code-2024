{
 "cells": [
  {
   "cell_type": "code",
   "execution_count": 20,
   "metadata": {},
   "outputs": [],
   "source": [
    "import re"
   ]
  },
  {
   "cell_type": "code",
   "execution_count": 23,
   "metadata": {},
   "outputs": [],
   "source": [
    "def clean_find_result(find_result):\n",
    "    for i in find_result:\n",
    "        if i != '':\n",
    "            return i"
   ]
  },
  {
   "cell_type": "markdown",
   "metadata": {},
   "source": [
    "# Part One #"
   ]
  },
  {
   "cell_type": "code",
   "execution_count": 24,
   "metadata": {},
   "outputs": [
    {
     "data": {
      "text/plain": [
       "188116424"
      ]
     },
     "execution_count": 24,
     "metadata": {},
     "output_type": "execute_result"
    }
   ],
   "source": [
    "file = open(\"input1.txt\")\n",
    "\n",
    "# UNCOMMENT THE FOLLOWING 2 LINES TO USE EXAMPLE INPUT.\n",
    "# section = \"xmul(2,4)%&mul[3,7]!@^do_not_mul(5,5)+mul(32,64]then(mul(11,8)mul(8,5))\"\n",
    "# file = [section]\n",
    "\n",
    "pattern = \"mul[(][0-9]{1,3},[0-9]{1,3}[)]\"\n",
    "s = 0\n",
    "for i in file:\n",
    "    found_multiplications = re.findall(pattern, i)\n",
    "    for multiplication in found_multiplications:\n",
    "        multiplication = multiplication[4:-1].split(\",\")\n",
    "        number1, number2 = int(multiplication[0]), int(multiplication[1])\n",
    "        s = s + number1 * number2\n",
    "s"
   ]
  },
  {
   "cell_type": "markdown",
   "metadata": {},
   "source": [
    "# Part Two #"
   ]
  },
  {
   "cell_type": "code",
   "execution_count": 25,
   "metadata": {},
   "outputs": [
    {
     "data": {
      "text/plain": [
       "104245808"
      ]
     },
     "execution_count": 25,
     "metadata": {},
     "output_type": "execute_result"
    }
   ],
   "source": [
    "file = open(\"input1.txt\")\n",
    "\n",
    "# UNCOMMENT THE FOLLOWING 2 LINES TO USE EXAMPLE INPUT.\n",
    "# section = \"xmul(2,4)&mul[3,7]!^don't()_mul(5,5)+mul(32,64](mul(11,8)undo()?mul(8,5))\"\n",
    "# file = [section]\n",
    "\n",
    "pattern = \"(do\\(\\))|(don't\\(\\))|(mul[(][0-9]{1,3},[0-9]{1,3}[)])\"\n",
    "latest_do = True\n",
    "s = 0\n",
    "for i in file:\n",
    "    found_operations = [clean_find_result(find_result) for find_result in re.findall(pattern, i)]\n",
    "    for operation in found_operations:\n",
    "        if operation == \"do()\":\n",
    "            latest_do = True\n",
    "        elif operation == \"don't()\":\n",
    "            latest_do = False\n",
    "        elif latest_do == True:\n",
    "            operation = operation[4:-1].split(\",\")\n",
    "            number1, number2 = int(operation[0]), int(operation[1])\n",
    "            s = s + number1 * number2\n",
    "s"
   ]
  }
 ],
 "metadata": {
  "kernelspec": {
   "display_name": "Python 3",
   "language": "python",
   "name": "python3"
  },
  "language_info": {
   "codemirror_mode": {
    "name": "ipython",
    "version": 3
   },
   "file_extension": ".py",
   "mimetype": "text/x-python",
   "name": "python",
   "nbconvert_exporter": "python",
   "pygments_lexer": "ipython3",
   "version": "3.8.5"
  }
 },
 "nbformat": 4,
 "nbformat_minor": 4
}
