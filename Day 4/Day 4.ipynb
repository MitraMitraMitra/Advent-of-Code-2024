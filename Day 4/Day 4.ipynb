{
 "cells": [
  {
   "cell_type": "code",
   "execution_count": 135,
   "metadata": {},
   "outputs": [],
   "source": [
    "import re\n",
    "import math"
   ]
  },
  {
   "cell_type": "code",
   "execution_count": 139,
   "metadata": {},
   "outputs": [],
   "source": [
    "file = open(\"input1.txt\")\n",
    "\n",
    "# UNCOMMENT THE FOLLOWING 2 LINES TO USE EXAMPLE INPUT.\n",
    "#file = open(\"test_input.txt\")\n",
    "\n",
    "matrix = []\n",
    "for i in file:\n",
    "    matrix.append(re.sub(\"\\n\", \"\", i))"
   ]
  },
  {
   "cell_type": "markdown",
   "metadata": {},
   "source": [
    "# Part One #"
   ]
  },
  {
   "cell_type": "code",
   "execution_count": 140,
   "metadata": {},
   "outputs": [],
   "source": [
    "def get_all_directions_from_X(matrix, X_x, X_y):\n",
    "    number_of_rows = len(matrix)\n",
    "    number_of_columns = len(matrix[0])\n",
    "    all_coordinates = []\n",
    "    for i in range(0, 360, 45):\n",
    "        x = [X_x + c * round(math.cos(math.pi * i / 180)) for c in [1, 2, 3]]\n",
    "        y = [X_y + c * round(math.sin(math.pi * i / 180)) for c in [1, 2, 3]]\n",
    "        if 0 <= min(x) and max(x) < number_of_columns:\n",
    "            if 0 <= min(y) and max(y) < number_of_rows:\n",
    "                all_coordinates.append(list(zip(x, y)))\n",
    "    return all_coordinates\n",
    "\n",
    "def check_coordinates(matrix, all_coordinates):\n",
    "    found = 0\n",
    "    for coordinates in all_coordinates:\n",
    "        if matrix[coordinates[0][0]][coordinates[0][1]] == \"M\":\n",
    "            if matrix[coordinates[1][0]][coordinates[1][1]] == \"A\":\n",
    "                if matrix[coordinates[2][0]][coordinates[2][1]] == \"S\":\n",
    "                    found = found + 1\n",
    "    return found"
   ]
  },
  {
   "cell_type": "code",
   "execution_count": 142,
   "metadata": {},
   "outputs": [
    {
     "data": {
      "text/plain": [
       "2521"
      ]
     },
     "execution_count": 142,
     "metadata": {},
     "output_type": "execute_result"
    }
   ],
   "source": [
    "number_of_XMAS = 0\n",
    "for row in range(0, len(matrix)):\n",
    "    for column in range(0, len(matrix[0])):\n",
    "        if matrix[row][column] == \"X\":\n",
    "            all_directions = get_all_directions_from_X(matrix, row, column)\n",
    "            found = check_coordinates(matrix, all_directions)\n",
    "            number_of_XMAS = number_of_XMAS + found\n",
    "number_of_XMAS"
   ]
  },
  {
   "cell_type": "markdown",
   "metadata": {},
   "source": [
    "# Part Two #"
   ]
  },
  {
   "cell_type": "code",
   "execution_count": 144,
   "metadata": {},
   "outputs": [
    {
     "data": {
      "text/plain": [
       "1912"
      ]
     },
     "execution_count": 144,
     "metadata": {},
     "output_type": "execute_result"
    }
   ],
   "source": [
    "number_of_XMAS = 0\n",
    "for row in range(1, len(matrix) - 1):\n",
    "    for column in range(1, len(matrix[0]) - 1):\n",
    "        if matrix[row][column] == \"A\":\n",
    "            if matrix[row - 1][column - 1] + matrix[row + 1][column + 1] in [\"SM\", \"MS\"]:\n",
    "                if matrix[row + 1][column - 1] + matrix[row - 1][column + 1] in [\"SM\", \"MS\"]:\n",
    "                    found = found + 1\n",
    "found"
   ]
  }
 ],
 "metadata": {
  "kernelspec": {
   "display_name": "Python 3",
   "language": "python",
   "name": "python3"
  },
  "language_info": {
   "codemirror_mode": {
    "name": "ipython",
    "version": 3
   },
   "file_extension": ".py",
   "mimetype": "text/x-python",
   "name": "python",
   "nbconvert_exporter": "python",
   "pygments_lexer": "ipython3",
   "version": "3.8.5"
  }
 },
 "nbformat": 4,
 "nbformat_minor": 4
}
